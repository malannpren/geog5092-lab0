{
 "cells": [
  {
   "cell_type": "code",
   "execution_count": 1,
   "metadata": {},
   "outputs": [
    {
     "name": "stdout",
     "output_type": "stream",
     "text": [
      "['roads.txt', 'cities.txt', 'counties.txt', 'states.txt']\n"
     ]
    }
   ],
   "source": [
    "# Would get full points\n",
    "words = ['roads', 'cities', 'counties', 'states']\n",
    "concat_words = []\n",
    "for word in words:\n",
    "    new_word = word + '.txt'\n",
    "    concat_words.append(new_word)\n",
    "\n",
    "print(concat_words)"
   ]
  },
  {
   "cell_type": "code",
   "execution_count": 2,
   "metadata": {},
   "outputs": [
    {
     "name": "stdout",
     "output_type": "stream",
     "text": [
      "['roads.txt', 'cities.txt', 'counties.txt', 'states.txt']\n"
     ]
    }
   ],
   "source": [
    "# Better approach, less use of temporary variables\n",
    "words = ['roads', 'cities', 'counties', 'states']\n",
    "concat_words = []\n",
    "for word in words:\n",
    "    concat_words.append(word + '.txt')\n",
    "\n",
    "print(concat_words)"
   ]
  },
  {
   "cell_type": "code",
   "execution_count": 4,
   "metadata": {},
   "outputs": [
    {
     "name": "stdout",
     "output_type": "stream",
     "text": [
      "1.0\n",
      "3.141592653589793\n",
      "9.869604401089358\n",
      "31.006276680299816\n",
      "97.40909103400242\n",
      "306.0196847852814\n",
      "961.3891935753043\n",
      "3020.2932277767914\n",
      "9488.53101607057\n"
     ]
    }
   ],
   "source": [
    "import math\n",
    "pwr = 0\n",
    "while math.pi**pwr<10000:\n",
    "    print(math.pi**pwr)\n",
    "    pwr = pwr + 1"
   ]
  },
  {
   "cell_type": "code",
   "execution_count": 5,
   "metadata": {},
   "outputs": [
    {
     "name": "stdout",
     "output_type": "stream",
     "text": [
      "['roads.txt', 'cities.txt', 'counties.txt', 'states.txt']\n"
     ]
    }
   ],
   "source": [
    "# Even better, with the use of list comprehensions\n",
    "words = ['roads', 'cities', 'counties', 'states']\n",
    "concat_words = [word + '.txt' for word in words]\n",
    "\n",
    "print(concat_words)"
   ]
  },
  {
   "cell_type": "code",
   "execution_count": 6,
   "metadata": {},
   "outputs": [],
   "source": [
    "txt = open(r'./lab0.txt')\n",
    "\n",
    "lines = txt.readlines()\n",
    "\n",
    "linesFlt = [float(l) for l in lines]"
   ]
  },
  {
   "cell_type": "code",
   "execution_count": 7,
   "metadata": {},
   "outputs": [
    {
     "data": {
      "text/plain": [
       "[1.474,\n",
       " 2.863,\n",
       " 2.959,\n",
       " 3.758,\n",
       " 4.49,\n",
       " 4.963,\n",
       " 5.128,\n",
       " 5.265,\n",
       " 5.822,\n",
       " 6.201,\n",
       " 7.033,\n",
       " 7.83]"
      ]
     },
     "execution_count": 7,
     "metadata": {},
     "output_type": "execute_result"
    }
   ],
   "source": [
    "linesFlt"
   ]
  },
  {
   "cell_type": "code",
   "execution_count": null,
   "metadata": {},
   "outputs": [],
   "source": []
  }
 ],
 "metadata": {
  "kernelspec": {
   "display_name": "Python 3",
   "language": "python",
   "name": "python3"
  },
  "language_info": {
   "codemirror_mode": {
    "name": "ipython",
    "version": 3
   },
   "file_extension": ".py",
   "mimetype": "text/x-python",
   "name": "python",
   "nbconvert_exporter": "python",
   "pygments_lexer": "ipython3",
   "version": "3.8.5"
  }
 },
 "nbformat": 4,
 "nbformat_minor": 4
}
