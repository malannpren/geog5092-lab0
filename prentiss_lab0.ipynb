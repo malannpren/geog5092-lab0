{
 "cells": [
  {
   "cell_type": "code",
   "execution_count": 82,
   "metadata": {},
   "outputs": [
    {
     "name": "stdout",
     "output_type": "stream",
     "text": [
      "['roads', 'cities', 'counties', 'states']\n",
      "['roads.txt', 'cities.txt', 'counties.txt', 'states.txt']\n"
     ]
    }
   ],
   "source": [
    "#part1\n",
    "list1 = ['roads', 'cities', 'counties', 'states' ]\n",
    "print(list1)\n",
    "new_list = []\n",
    "for item in list1:\n",
    "    item_with_txt = item + '.txt'\n",
    "    new_list.append(item_with_txt)\n",
    "print(new_list)"
   ]
  },
  {
   "cell_type": "code",
   "execution_count": 73,
   "metadata": {},
   "outputs": [
    {
     "name": "stdout",
     "output_type": "stream",
     "text": [
      "0\n",
      "1.0\n",
      "1\n",
      "3.141592653589793\n",
      "2\n",
      "9.869604401089358\n",
      "3\n",
      "31.006276680299816\n",
      "4\n",
      "97.40909103400242\n",
      "5\n",
      "306.0196847852814\n",
      "6\n",
      "961.3891935753043\n",
      "7\n",
      "3020.2932277767914\n",
      "8\n",
      "9488.53101607057\n",
      "9\n",
      "29809.0993334462\n"
     ]
    }
   ],
   "source": [
    "#part2\n",
    "import math\n",
    "x = 0\n",
    "y = 0\n",
    "while x < 10000:\n",
    "    x = math.pi**y\n",
    "    print(y)\n",
    "    y = y + 1\n",
    "    print(x)"
   ]
  },
  {
   "cell_type": "code",
   "execution_count": 98,
   "metadata": {},
   "outputs": [
    {
     "name": "stdout",
     "output_type": "stream",
     "text": [
      "[1.474, 2.863, 2.959, 3.758, 4.49, 4.963, 5.128, 5.265, 5.822, 6.201, 7.033, 7.83]\n",
      "<class 'float'>\n",
      "<class 'list'>\n"
     ]
    }
   ],
   "source": [
    "#optional\n",
    "document = open(\"lab0.txt\")\n",
    "lst = document.readlines()\n",
    "float_lst = []\n",
    "for item in lst:\n",
    "    item = float(item)\n",
    "    float_lst.append(item)\n",
    "print(float_lst)\n",
    "print(type(item))\n",
    "print(type(float_lst))"
   ]
  }
 ],
 "metadata": {
  "kernelspec": {
   "display_name": "Python 3",
   "language": "python",
   "name": "python3"
  },
  "language_info": {
   "codemirror_mode": {
    "name": "ipython",
    "version": 3
   },
   "file_extension": ".py",
   "mimetype": "text/x-python",
   "name": "python",
   "nbconvert_exporter": "python",
   "pygments_lexer": "ipython3",
   "version": "3.7.6"
  }
 },
 "nbformat": 4,
 "nbformat_minor": 4
}
